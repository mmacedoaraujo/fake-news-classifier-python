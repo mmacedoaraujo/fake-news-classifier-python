{
 "cells": [
  {
   "cell_type": "code",
   "execution_count": 45,
   "id": "e61e888a",
   "metadata": {},
   "outputs": [],
   "source": [
    "import pandas as pd"
   ]
  },
  {
   "cell_type": "code",
   "execution_count": 46,
   "id": "55976950",
   "metadata": {},
   "outputs": [
    {
     "data": {
      "text/html": [
       "<div>\n",
       "<style scoped>\n",
       "    .dataframe tbody tr th:only-of-type {\n",
       "        vertical-align: middle;\n",
       "    }\n",
       "\n",
       "    .dataframe tbody tr th {\n",
       "        vertical-align: top;\n",
       "    }\n",
       "\n",
       "    .dataframe thead th {\n",
       "        text-align: right;\n",
       "    }\n",
       "</style>\n",
       "<table border=\"1\" class=\"dataframe\">\n",
       "  <thead>\n",
       "    <tr style=\"text-align: right;\">\n",
       "      <th></th>\n",
       "      <th>title</th>\n",
       "      <th>text</th>\n",
       "      <th>origin</th>\n",
       "      <th>url</th>\n",
       "      <th>label</th>\n",
       "      <th>publisher_name</th>\n",
       "      <th>publisher_site</th>\n",
       "      <th>date</th>\n",
       "    </tr>\n",
       "  </thead>\n",
       "  <tbody>\n",
       "    <tr>\n",
       "      <th>0</th>\n",
       "      <td>Vídeo com vaias a Nando Reis teve áudio manipu...</td>\n",
       "      <td>“Nando Reis se F… Se F…. no Rock in Rio”</td>\n",
       "      <td>pessoa</td>\n",
       "      <td>https://lupa.uol.com.br/jornalismo/2022/09/09/...</td>\n",
       "      <td>1</td>\n",
       "      <td>Lupa - UOL</td>\n",
       "      <td>lupa.uol.com.br</td>\n",
       "      <td>NaN</td>\n",
       "    </tr>\n",
       "    <tr>\n",
       "      <th>1</th>\n",
       "      <td>Documentos confirmam uso de dinheiro vivo na c...</td>\n",
       "      <td>“Não foi dinheiro vivo. Moeda corrente, quer d...</td>\n",
       "      <td>Cristina Graeml</td>\n",
       "      <td>https://lupa.uol.com.br/jornalismo/2022/09/09/...</td>\n",
       "      <td>1</td>\n",
       "      <td>Lupa - UOL</td>\n",
       "      <td>lupa.uol.com.br</td>\n",
       "      <td>2022-09-06T00:00:00Z</td>\n",
       "    </tr>\n",
       "    <tr>\n",
       "      <th>2</th>\n",
       "      <td>G1 não publicou notícia de que rainha Elizabet...</td>\n",
       "      <td>“Em seus últimos momentos de vida, rainha Eliz...</td>\n",
       "      <td>Imagem no WhatsApp</td>\n",
       "      <td>https://lupa.uol.com.br/jornalismo/2022/09/08/...</td>\n",
       "      <td>1</td>\n",
       "      <td>Lupa - UOL</td>\n",
       "      <td>lupa.uol.com.br</td>\n",
       "      <td>NaN</td>\n",
       "    </tr>\n",
       "    <tr>\n",
       "      <th>3</th>\n",
       "      <td>TSE não proibiu governo de tomar medidas para ...</td>\n",
       "      <td>“TSE MARCOU PARA PRÓXIMA SEMANA JULGAMENTO OND...</td>\n",
       "      <td>pessoa</td>\n",
       "      <td>https://lupa.uol.com.br/jornalismo/2022/09/08/...</td>\n",
       "      <td>1</td>\n",
       "      <td>Lupa - UOL</td>\n",
       "      <td>lupa.uol.com.br</td>\n",
       "      <td>NaN</td>\n",
       "    </tr>\n",
       "    <tr>\n",
       "      <th>4</th>\n",
       "      <td>É falso que órgão de saúde dos EUA passou a re...</td>\n",
       "      <td>De repente, a Ivermectina aparece no site do N...</td>\n",
       "      <td>Post no WhatsApp</td>\n",
       "      <td>https://lupa.uol.com.br/jornalismo/2022/09/08/...</td>\n",
       "      <td>1</td>\n",
       "      <td>Lupa - UOL</td>\n",
       "      <td>lupa.uol.com.br</td>\n",
       "      <td>2022-09-08T00:00:00Z</td>\n",
       "    </tr>\n",
       "  </tbody>\n",
       "</table>\n",
       "</div>"
      ],
      "text/plain": [
       "                                               title  \\\n",
       "0  Vídeo com vaias a Nando Reis teve áudio manipu...   \n",
       "1  Documentos confirmam uso de dinheiro vivo na c...   \n",
       "2  G1 não publicou notícia de que rainha Elizabet...   \n",
       "3  TSE não proibiu governo de tomar medidas para ...   \n",
       "4  É falso que órgão de saúde dos EUA passou a re...   \n",
       "\n",
       "                                                text              origin  \\\n",
       "0           “Nando Reis se F… Se F…. no Rock in Rio”              pessoa   \n",
       "1  “Não foi dinheiro vivo. Moeda corrente, quer d...     Cristina Graeml   \n",
       "2  “Em seus últimos momentos de vida, rainha Eliz...  Imagem no WhatsApp   \n",
       "3  “TSE MARCOU PARA PRÓXIMA SEMANA JULGAMENTO OND...              pessoa   \n",
       "4  De repente, a Ivermectina aparece no site do N...    Post no WhatsApp   \n",
       "\n",
       "                                                 url label publisher_name  \\\n",
       "0  https://lupa.uol.com.br/jornalismo/2022/09/09/...     1     Lupa - UOL   \n",
       "1  https://lupa.uol.com.br/jornalismo/2022/09/09/...     1     Lupa - UOL   \n",
       "2  https://lupa.uol.com.br/jornalismo/2022/09/08/...     1     Lupa - UOL   \n",
       "3  https://lupa.uol.com.br/jornalismo/2022/09/08/...     1     Lupa - UOL   \n",
       "4  https://lupa.uol.com.br/jornalismo/2022/09/08/...     1     Lupa - UOL   \n",
       "\n",
       "    publisher_site                  date  \n",
       "0  lupa.uol.com.br                   NaN  \n",
       "1  lupa.uol.com.br  2022-09-06T00:00:00Z  \n",
       "2  lupa.uol.com.br                   NaN  \n",
       "3  lupa.uol.com.br                   NaN  \n",
       "4  lupa.uol.com.br  2022-09-08T00:00:00Z  "
      ]
     },
     "execution_count": 46,
     "metadata": {},
     "output_type": "execute_result"
    }
   ],
   "source": [
    "dataframe = pd.read_csv('fakeandtrue.csv')\n",
    "dataframe.head()"
   ]
  },
  {
   "cell_type": "code",
   "execution_count": null,
   "id": "dd33a9b0",
   "metadata": {},
   "outputs": [],
   "source": [
    "import s"
   ]
  },
  {
   "cell_type": "code",
   "execution_count": 47,
   "id": "1bf31472",
   "metadata": {},
   "outputs": [],
   "source": [
    "x = dataframe['title']\n",
    "y = dataframe['label']"
   ]
  },
  {
   "cell_type": "code",
   "execution_count": 48,
   "id": "8bc282fb",
   "metadata": {},
   "outputs": [
    {
     "data": {
      "text/plain": [
       "0        Vídeo com vaias a Nando Reis teve áudio manipu...\n",
       "1        Documentos confirmam uso de dinheiro vivo na c...\n",
       "2        G1 não publicou notícia de que rainha Elizabet...\n",
       "3        TSE não proibiu governo de tomar medidas para ...\n",
       "4        É falso que órgão de saúde dos EUA passou a re...\n",
       "                               ...                        \n",
       "23194    Um cachorro foi colocado em quarentena em Hong...\n",
       "23195    A Prefeitura de Tucumã está entregando kits co...\n",
       "23196    O então presidente eleito Jair Bolsonaro disse...\n",
       "23197    Sim, Jair Bolsonaro declarou que a chegada de ...\n",
       "23198    Apontado como chefe de milícia, Adriano da Nób...\n",
       "Name: title, Length: 23199, dtype: object"
      ]
     },
     "execution_count": 48,
     "metadata": {},
     "output_type": "execute_result"
    }
   ],
   "source": [
    "x"
   ]
  },
  {
   "cell_type": "code",
   "execution_count": 49,
   "id": "4b8e99c6",
   "metadata": {},
   "outputs": [
    {
     "data": {
      "text/plain": [
       "0        1\n",
       "1        1\n",
       "2        1\n",
       "3        1\n",
       "4        1\n",
       "        ..\n",
       "23194    0\n",
       "23195    0\n",
       "23196    0\n",
       "23197    0\n",
       "23198    0\n",
       "Name: label, Length: 23199, dtype: object"
      ]
     },
     "execution_count": 49,
     "metadata": {},
     "output_type": "execute_result"
    }
   ],
   "source": [
    "y"
   ]
  },
  {
   "cell_type": "code",
   "execution_count": 50,
   "id": "980056ee",
   "metadata": {},
   "outputs": [],
   "source": [
    "from sklearn.model_selection import train_test_split\n",
    "from sklearn.feature_extraction.text import TfidfVectorizer\n",
    "from sklearn.linear_model import PassiveAggressiveClassifier\n",
    "from sklearn.metrics import accuracy_score, confusion_matrix"
   ]
  },
  {
   "cell_type": "code",
   "execution_count": 51,
   "id": "2cefc69b",
   "metadata": {},
   "outputs": [
    {
     "data": {
      "text/plain": [
       "7569     1\n",
       "7976     1\n",
       "10623    1\n",
       "22032    0\n",
       "196      1\n",
       "        ..\n",
       "13123    1\n",
       "19648    1\n",
       "9845     1\n",
       "10799    1\n",
       "2732     1\n",
       "Name: label, Length: 18559, dtype: object"
      ]
     },
     "execution_count": 51,
     "metadata": {},
     "output_type": "execute_result"
    }
   ],
   "source": [
    "x_train,x_test,y_train,y_test = train_test_split(x,y,test_size=0.2,random_state=0)\n",
    "y_train"
   ]
  },
  {
   "cell_type": "code",
   "execution_count": 52,
   "id": "61dab954",
   "metadata": {},
   "outputs": [
    {
     "data": {
      "text/plain": [
       "7569     1\n",
       "7976     1\n",
       "10623    1\n",
       "22032    0\n",
       "196      1\n",
       "        ..\n",
       "13123    1\n",
       "19648    1\n",
       "9845     1\n",
       "10799    1\n",
       "2732     1\n",
       "Name: label, Length: 18559, dtype: object"
      ]
     },
     "execution_count": 52,
     "metadata": {},
     "output_type": "execute_result"
    }
   ],
   "source": [
    "y_train"
   ]
  },
  {
   "cell_type": "code",
   "execution_count": 77,
   "id": "f945b3f3",
   "metadata": {},
   "outputs": [
    {
     "name": "stderr",
     "output_type": "stream",
     "text": [
      "[nltk_data] Downloading package stopwords to\n",
      "[nltk_data]     C:\\Users\\marqu\\AppData\\Roaming\\nltk_data...\n",
      "[nltk_data]   Package stopwords is already up-to-date!\n"
     ]
    }
   ],
   "source": [
    "import nltk\n",
    "nltk.download('stopwords')\n",
    "\n",
    "tfvect = TfidfVectorizer(stop_words = nltk.corpus.stopwords.words('portuguese'))\n",
    "tfid_x_train = tfvect.fit_transform(x_train)\n",
    "tfid_x_test = tfvect.transform(x_test)"
   ]
  },
  {
   "cell_type": "code",
   "execution_count": 78,
   "id": "be788320",
   "metadata": {},
   "outputs": [
    {
     "data": {
      "text/plain": [
       "PassiveAggressiveClassifier(max_iter=50)"
      ]
     },
     "execution_count": 78,
     "metadata": {},
     "output_type": "execute_result"
    }
   ],
   "source": [
    "classifier = PassiveAggressiveClassifier(max_iter=50)\n",
    "classifier.fit(tfid_x_train,y_train)"
   ]
  },
  {
   "cell_type": "code",
   "execution_count": 79,
   "id": "c381dbea",
   "metadata": {},
   "outputs": [
    {
     "name": "stdout",
     "output_type": "stream",
     "text": [
      "Accuracy: 85.62%\n"
     ]
    }
   ],
   "source": [
    "y_pred = classifier.predict(tfid_x_test)\n",
    "score = accuracy_score(y_test,y_pred)\n",
    "print(f'Accuracy: {round(score*100,2)}%')"
   ]
  },
  {
   "cell_type": "code",
   "execution_count": 80,
   "id": "c46e8bfd",
   "metadata": {},
   "outputs": [
    {
     "name": "stdout",
     "output_type": "stream",
     "text": [
      "[[3813  293]\n",
      " [ 374  160]]\n"
     ]
    }
   ],
   "source": [
    "cf = confusion_matrix(y_test,y_pred, labels=['1','0'])\n",
    "print(cf)"
   ]
  },
  {
   "cell_type": "code",
   "execution_count": 81,
   "id": "e076fc96",
   "metadata": {},
   "outputs": [],
   "source": [
    "def fake_news_det(news):\n",
    "    input_data = [news]\n",
    "    vectorized_input_data = tfvect.transform(input_data)\n",
    "    prediction = classifier.predict(vectorized_input_data)\n",
    "    print(prediction)"
   ]
  },
  {
   "cell_type": "code",
   "execution_count": 82,
   "id": "d8837a03",
   "metadata": {},
   "outputs": [
    {
     "name": "stdout",
     "output_type": "stream",
     "text": [
      "['1']\n"
     ]
    }
   ],
   "source": [
    "fake_news_det('Meme atribui a Lula falsa frase sobre conquista de eleitores com dinheiro para comprar cachaça')"
   ]
  },
  {
   "cell_type": "code",
   "execution_count": 83,
   "id": "264bd714",
   "metadata": {},
   "outputs": [],
   "source": [
    "import pickle\n",
    "pickle.dump(classifier,open('model.pkl', 'wb'))"
   ]
  },
  {
   "cell_type": "code",
   "execution_count": 84,
   "id": "75923f88",
   "metadata": {},
   "outputs": [],
   "source": [
    "# load the model from disk\n",
    "loaded_model = pickle.load(open('model.pkl', 'rb'))"
   ]
  },
  {
   "cell_type": "code",
   "execution_count": 85,
   "id": "927a90f1",
   "metadata": {},
   "outputs": [],
   "source": [
    "def fake_news_det1(news):\n",
    "    input_data = [news]\n",
    "    vectorized_input_data = tfvect.transform(input_data)\n",
    "    prediction = loaded_model.predict(vectorized_input_data)\n",
    "    print(prediction)"
   ]
  },
  {
   "cell_type": "code",
   "execution_count": 87,
   "id": "bb934c51",
   "metadata": {},
   "outputs": [
    {
     "name": "stdout",
     "output_type": "stream",
     "text": [
      "['1']\n"
     ]
    }
   ],
   "source": [
    "fake_news_det1(\"No último dia 30 de janeiro, o Supremo Tribunal Federal (STF) determinou a investigação de autoridades do governo do ex-presidente Jair Bolsonaro por genocídio contra a comunidade. Também serão apurados os crimes de desobediência, quebra de segredos e justiça e crimes ambientais relacionados à vida, à saúde e à segurança de comunidades indígenas.\")"
   ]
  },
  {
   "cell_type": "code",
   "execution_count": null,
   "id": "b8d45f3e",
   "metadata": {},
   "outputs": [],
   "source": []
  }
 ],
 "metadata": {
  "kernelspec": {
   "display_name": "Python 3 (ipykernel)",
   "language": "python",
   "name": "python3"
  },
  "language_info": {
   "codemirror_mode": {
    "name": "ipython",
    "version": 3
   },
   "file_extension": ".py",
   "mimetype": "text/x-python",
   "name": "python",
   "nbconvert_exporter": "python",
   "pygments_lexer": "ipython3",
   "version": "3.9.12"
  }
 },
 "nbformat": 4,
 "nbformat_minor": 5
}
